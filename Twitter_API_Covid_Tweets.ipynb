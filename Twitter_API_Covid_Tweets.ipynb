{
 "cells": [
  {
   "attachments": {},
   "cell_type": "markdown",
   "id": "1eb81bcf-e8aa-48de-be1f-a7ccde207293",
   "metadata": {},
   "source": [
    "# Creating Twitter developer account and collecting data from Twitter using Twitter API.\n",
    " - The task is to collect recent tweets related to \"Covid\" using Twitter API and Tweepy library in Python."
   ]
  },
  {
   "cell_type": "markdown",
   "id": "4c3794e5-9763-40ed-9940-a95da86ea527",
   "metadata": {},
   "source": [
    "## Step 1: Importing the required libraries"
   ]
  },
  {
   "cell_type": "code",
   "execution_count": 1,
   "id": "8dfd610d-816e-406c-ba0f-bc986736040f",
   "metadata": {},
   "outputs": [],
   "source": [
    "import tweepy\n",
    "import configparser\n",
    "import pandas as pd"
   ]
  },
  {
   "cell_type": "markdown",
   "id": "c2b32941-a6ca-47fd-bc6b-70b80e7802b6",
   "metadata": {},
   "source": [
    "## Step 2: Writing the code to perform Twitter API authentication"
   ]
  },
  {
   "cell_type": "code",
   "execution_count": 2,
   "id": "3baa5204-76dc-4c14-8afb-aa62e317b138",
   "metadata": {},
   "outputs": [],
   "source": [
    "# read configs\n",
    "config = configparser.ConfigParser()\n",
    "config.read('config.ini')\n",
    "\n",
    "api_key = config['twitter']['api_key']\n",
    "api_key_secret = config['twitter']['api_key_secret']\n",
    "\n",
    "access_token = config['twitter']['access_token']\n",
    "access_token_secret = config['twitter']['access_token_secret']\n",
    "\n",
    "# authentication\n",
    "auth = tweepy.OAuthHandler(api_key, api_key_secret)\n",
    "auth.set_access_token(access_token, access_token_secret)\n",
    "\n",
    "api = tweepy.API(auth)"
   ]
  },
  {
   "cell_type": "markdown",
   "id": "fe5292fc-ae7f-41df-afd4-f3f2d6930858",
   "metadata": {},
   "source": [
    "## Step 3: Writing the code to use Twitter Search API to search tweets with \"Covid\" keyword"
   ]
  },
  {
   "cell_type": "code",
   "execution_count": 6,
   "id": "e031a29b-ef36-4451-a7f0-5b357ca7858f",
   "metadata": {},
   "outputs": [
    {
     "name": "stdout",
     "output_type": "stream",
     "text": [
      "FETCHING TWEETS RELATED TO 'COVID'\n",
      "====================================================================================================\n",
      "The total number of tweets fetched: 12\n",
      "====================================================================================================\n",
      "- TWEET NO. 1 ->\n",
      "NEW: A breakdown of Pandemic Pundit Leana Wen's many false statements, and fictional opinion editorials about COVID-19, covering her descent into rightoid conspiracy theories. \n",
      "\n",
      "Read now, and share: https://t.co/8I1yCcaMPp\n",
      "====================================================================================================\n",
      "- TWEET NO. 2 ->\n",
      "FDA Sued for Withholding COVID-19 Vaccine Safety Analyses!!! Woo Hoo! They withheld the death Safety signal for over two years and are still pretending it hasn’t triggered even after admitting it did trigger in a FOIA request. The agencies are so corrupt.\n",
      "\n",
      "https://t.co/hjXQnyrFtl\n",
      "====================================================================================================\n",
      "- TWEET NO. 3 ->\n",
      "Moderna is hiking its vaccine prices up to $130. Meanwhile, billionaires at Davos are sparing no expense to protect themselves from COVID-19, with HEPA filters, ventilation, UV and easy access to N95 masks, tests, and Paxlovid. This is a class war. \n",
      "#DavosSafe #DavosStandard\n",
      "====================================================================================================\n",
      "- TWEET NO. 4 ->\n",
      "@HRajaBJP பொய் செய்தி!! இந்த வீடியோ covid 19 vaccines தொடர்பாக நடந்த போராட்டம்.  இப்படி Fake News பரப்புவதன் மூலம் குஜராத் கலவரம் தொடர்பாக #BBCDocumentary உண்மை என்று  மக்களுக்கு புரியவைத்து ஒத்துக்கொண்டமைக்கு நன்றி. \n",
      "\n",
      "https://t.co/8hNevkIsfc\n",
      "====================================================================================================\n",
      "- TWEET NO. 5 ->\n",
      "#Francia🇫🇷 oficializó el fin de la baja laboral por Covid-19\n",
      "https://t.co/RhQBANW06t\n",
      "\n",
      "#SomosVenezuela2023 \n",
      "\n",
      "#BastaDePersecusiónFinanciera\n",
      "====================================================================================================\n",
      "- TWEET NO. 6 ->\n",
      "South Sudan Launches Covid-19 Vaccination Drive To Boost Coverage https://t.co/RJJhGjL8Pj\n",
      "====================================================================================================\n",
      "- TWEET NO. 7 ->\n",
      "Why haven’t Joe Biden, Albert Bourla, Bill Gates, CDC, WHO or WEF been suspended due to COVID-19 misinformation?\n",
      "====================================================================================================\n",
      "- TWEET NO. 8 ->\n",
      "Dr John Campbell takes the public through the current risk / benefit of the mRNA COVID-19 booster / risk of hospitalisation.  (See below for more):\n",
      "\n",
      "https://t.co/kYsUJ8mrE7 https://t.co/B3WxAI5IFZ\n",
      "====================================================================================================\n",
      "- TWEET NO. 9 ->\n",
      "Pfizer confesses to FDA that it really doesn’t know how the COVID-19 vaccine works https://t.co/axlQVhmlOE\n",
      "====================================================================================================\n",
      "- TWEET NO. 10 ->\n",
      "Gestão Bolsonaro deixou vencer 370 mil doses de vacina contra a Covid 19. Tiveram que ser incineradas. Incompetência criminosa.\n",
      "====================================================================================================\n",
      "- TWEET NO. 11 ->\n",
      "Le #Covid est mort, du moins sa trame narrative.\n",
      "Vous n'aurez même plus droit à un arrêt maladie automatique avec un test positif en #France. https://t.co/ocn4bF6mzW ⏬suite\n",
      "====================================================================================================\n",
      "- TWEET NO. 12 ->\n",
      "🚨URGENT — French Doctors Throwing Their Stethoscopes Away In Protest Of Failing Healthcare System That COVID-19, Vaccine Mandates, And Lockdowns Made Worse https://t.co/Q9dHVbM2dC\n",
      "====================================================================================================\n"
     ]
    }
   ],
   "source": [
    "tweets = api.search_tweets(\"covid-19\", tweet_mode=\"extended\", until = '2023-01-29')\n",
    "\n",
    "print(\"FETCHING TWEETS RELATED TO 'COVID'\")\n",
    "print('='* 100)\n",
    "length = len(tweets)\n",
    "print(\"The total number of tweets fetched:\", length)\n",
    "print('='* 100)\n",
    "for i in range(0, length):\n",
    "    print(\"- TWEET NO.\", i+1, \"->\")\n",
    "    try:\n",
    "        print(tweets[i].retweeted_status.full_text)\n",
    "        print('='* 100)\n",
    "    except AttributeError:\n",
    "        print(tweets[i].full_text)\n",
    "        print('='* 100)"
   ]
  },
  {
   "cell_type": "code",
   "execution_count": null,
   "id": "0cec8e2a-14bc-48d8-84fe-328235f4cd3d",
   "metadata": {},
   "outputs": [],
   "source": []
  }
 ],
 "metadata": {
  "kernelspec": {
   "display_name": "Python 3 (ipykernel)",
   "language": "python",
   "name": "python3"
  },
  "language_info": {
   "codemirror_mode": {
    "name": "ipython",
    "version": 3
   },
   "file_extension": ".py",
   "mimetype": "text/x-python",
   "name": "python",
   "nbconvert_exporter": "python",
   "pygments_lexer": "ipython3",
   "version": "3.10.6"
  }
 },
 "nbformat": 4,
 "nbformat_minor": 5
}
